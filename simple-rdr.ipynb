{
 "cells": [
  {
   "cell_type": "markdown",
   "source": [
    "# Tugas IF4070 - Representasi Pengetahuan dan Penalaran\n",
    "# Implementasi Ripple Down Rules\n",
    "\n",
    "# Simple RDR\n",
    "**Simple RDR** is a ripple down rules implemented in Python.\n",
    "\n",
    "## Setup\n",
    "Assuming you've installed the latest version of Python (if not, guides for it are widely available),\n",
    "1. ensure pip is installed by running `python -m ensurepip --upgrade`;\n",
    "2. install the Python dependencies by running `pip install -r requirements.txt`."
   ],
   "metadata": {
    "collapsed": false
   },
   "id": "ba165be2f02167f2"
  },
  {
   "cell_type": "code",
   "execution_count": 1,
   "id": "initial_id",
   "metadata": {
    "collapsed": true,
    "ExecuteTime": {
     "end_time": "2023-10-26T03:08:07.037484100Z",
     "start_time": "2023-10-26T03:08:07.032496300Z"
    }
   },
   "outputs": [],
   "source": [
    "class Node:\n",
    "    def __init__(self, precedent, antecedent, cornerstone, except_, else_):\n",
    "        self._precedent = precedent\n",
    "        self._antecedent = antecedent\n",
    "        self._cornerstone = cornerstone\n",
    "        self._except = except_\n",
    "        self._else = else_"
   ]
  },
  {
   "cell_type": "code",
   "execution_count": 2,
   "outputs": [],
   "source": [
    "class Tree:\n",
    "    def __init__(self, root):\n",
    "        self._root = root"
   ],
   "metadata": {
    "collapsed": false,
    "ExecuteTime": {
     "end_time": "2023-10-26T03:08:07.045120100Z",
     "start_time": "2023-10-26T03:08:07.040099400Z"
    }
   },
   "id": "d1bfe44e8eb5b8d8"
  }
 ],
 "metadata": {
  "kernelspec": {
   "display_name": "Python 3",
   "language": "python",
   "name": "python3"
  },
  "language_info": {
   "codemirror_mode": {
    "name": "ipython",
    "version": 2
   },
   "file_extension": ".py",
   "mimetype": "text/x-python",
   "name": "python",
   "nbconvert_exporter": "python",
   "pygments_lexer": "ipython2",
   "version": "2.7.6"
  }
 },
 "nbformat": 4,
 "nbformat_minor": 5
}
