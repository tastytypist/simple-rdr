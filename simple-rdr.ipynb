{
 "cells": [
  {
   "cell_type": "markdown",
   "source": [
    "# Tugas IF4070 - Representasi Pengetahuan dan Penalaran\n",
    "# Implementasi Ripple Down Rules\n",
    "\n",
    "# Simple RDR\n",
    "**Simple RDR** is a ripple down rules implemented in Python.\n",
    "\n",
    "## Setup\n",
    "Assuming you've installed the latest version of Python (if not, guides for it are widely available),\n",
    "1. ensure pip is installed by running `python -m ensurepip --upgrade`;\n",
    "2. install the Python dependencies by running `pip install -r requirements.txt`."
   ],
   "metadata": {
    "collapsed": false
   },
   "id": "ba165be2f02167f2"
  },
  {
   "cell_type": "code",
   "execution_count": null,
   "outputs": [],
   "source": [
    "import random\n",
    "import re"
   ],
   "metadata": {
    "collapsed": false
   },
   "id": "25481e0d295c03aa"
  },
  {
   "cell_type": "code",
   "execution_count": 1,
   "id": "initial_id",
   "metadata": {
    "collapsed": true,
    "ExecuteTime": {
     "end_time": "2023-10-26T03:08:07.037484100Z",
     "start_time": "2023-10-26T03:08:07.032496300Z"
    }
   },
   "outputs": [],
   "source": [
    "class Node:\n",
    "    def __init__(self, precedent: set[str], antecedent: str, cornerstone: set[str], except_: \"Node\" = None, else_: \"Node\" = None, is_root: bool = False) -> None:\n",
    "        self._precedent = precedent\n",
    "        self._antecedent = antecedent\n",
    "        self._cornerstone = cornerstone\n",
    "        self._except = except_\n",
    "        self._else = else_\n",
    "        self._is_root = is_root\n",
    "\n",
    "    def get_except(self) -> \"Node\":\n",
    "        return self._except\n",
    "\n",
    "    def get_else(self) -> \"Node\":\n",
    "        return self._else\n",
    "    \n",
    "    def set_except(self, except_: \"Node\") -> None:\n",
    "        self._except = except_\n",
    "    \n",
    "    def set_else(self, else_: \"Node\") -> None:\n",
    "        self._else = else_\n",
    "    \n",
    "    def match_precedent(self, case: str) -> tuple[bool, str]:\n",
    "        if self._is_root:\n",
    "            return True, self._antecedent\n",
    "        else:\n",
    "            for statement in self._precedent:\n",
    "                if statement.startswith(\"~\"):\n",
    "                    exec(f\"{statement[1:]} = False\", __locals=locals())\n",
    "                else:\n",
    "                    exec(f\"{statement} = True\", __locals=locals())\n",
    "            \n",
    "            try:\n",
    "                eval(case)\n",
    "                return True, self._antecedent\n",
    "            except NameError:\n",
    "                return False, self._antecedent\n",
    "            finally:\n",
    "                for statement in self._precedent:\n",
    "                    if statement.startswith(\"~\"):\n",
    "                        exec(f\"del {statement[1:]}\", __locals=locals())\n",
    "                    else:\n",
    "                        exec(f\"del {statement}\", __locals=locals())"
   ]
  },
  {
   "cell_type": "code",
   "execution_count": 2,
   "outputs": [],
   "source": [
    "class Tree:\n",
    "    def __init__(self, root: \"Node\"):\n",
    "        self._root = root\n",
    "    \n",
    "    @staticmethod\n",
    "    def _isolate_statement(case: str) -> set[str]:\n",
    "        return set(re.findall(r\"~?[A-z0-9]+\\b\", case))\n",
    "    \n",
    "    def _traverse_tree(self, case: str) -> None:\n",
    "        current_node = self._root\n",
    "        last_true = self._root\n",
    "        \n",
    "        while not current_node.get_except() and not current_node.get_else():\n",
    "            if current_node.match_precedent(case)[0]:\n",
    "                last_true = current_node\n",
    "                current_node = current_node.get_except()\n",
    "            else:\n",
    "                current_node = current_node.get_else()\n",
    "        \n",
    "        antecedent = last_true[1]\n",
    "        print(f\"The system concludes that your case can be associated with the following: {antecedent}.\")\n",
    "        print(f\"Do you agree? (y/n)\")\n",
    "        \n",
    "        while True:\n",
    "            agreement = input()\n",
    "            if agreement.lower() in (\"y\", \"n\"):\n",
    "                break\n",
    "            else:\n",
    "                print(f\"Please input a valid option!\")\n",
    "        \n",
    "        if agreement.lower() == \"y\":\n",
    "            pass\n",
    "        else:\n",
    "            pass"
   ],
   "metadata": {
    "collapsed": false,
    "ExecuteTime": {
     "end_time": "2023-10-26T03:08:07.045120100Z",
     "start_time": "2023-10-26T03:08:07.040099400Z"
    }
   },
   "id": "d1bfe44e8eb5b8d8"
  }
 ],
 "metadata": {
  "kernelspec": {
   "display_name": "Python 3",
   "language": "python",
   "name": "python3"
  },
  "language_info": {
   "codemirror_mode": {
    "name": "ipython",
    "version": 2
   },
   "file_extension": ".py",
   "mimetype": "text/x-python",
   "name": "python",
   "nbconvert_exporter": "python",
   "pygments_lexer": "ipython2",
   "version": "2.7.6"
  }
 },
 "nbformat": 4,
 "nbformat_minor": 5
}
