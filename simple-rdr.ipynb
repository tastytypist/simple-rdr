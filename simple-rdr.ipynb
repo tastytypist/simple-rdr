{
 "cells": [
  {
   "cell_type": "markdown",
   "source": [
    "# Tugas IF4070 - Representasi Pengetahuan dan Penalaran\n",
    "# Implementasi Ripple Down Rules\n",
    "\n",
    "# Simple RDR\n",
    "**Simple RDR** is a ripple down rules implemented in Python.\n",
    "\n",
    "## Setup\n",
    "Assuming you've installed the latest version of Python (if not, guides for it are widely available),\n",
    "1. ensure pip is installed by running `python -m ensurepip --upgrade`;\n",
    "2. install the Python dependencies by running `pip install -r requirements.txt`."
   ],
   "metadata": {
    "collapsed": false
   },
   "id": "ba165be2f02167f2"
  },
  {
   "cell_type": "code",
   "execution_count": null,
   "outputs": [],
   "source": [
    "import random\n",
    "import re"
   ],
   "metadata": {
    "collapsed": false
   },
   "id": "25481e0d295c03aa"
  },
  {
   "cell_type": "code",
   "execution_count": 1,
   "id": "initial_id",
   "metadata": {
    "collapsed": true,
    "ExecuteTime": {
     "end_time": "2023-10-26T03:08:07.037484100Z",
     "start_time": "2023-10-26T03:08:07.032496300Z"
    }
   },
   "outputs": [],
   "source": [
    "class Node:\n",
    "    def __init__(self, precedent: str, antecedent: str, cornerstone: set[str], except_: \"Node\" = None, else_: \"Node\" = None, is_root: bool = False) -> None:\n",
    "        self._precedent = precedent\n",
    "        self._antecedent = antecedent\n",
    "        self._cornerstone = cornerstone\n",
    "        self._except = except_\n",
    "        self._else = else_\n",
    "        self._is_root = is_root\n",
    "\n",
    "    def get_cornerstone(self) -> set[str]:\n",
    "        return self._cornerstone\n",
    "    \n",
    "    def get_except(self) -> \"Node\":\n",
    "        return self._except\n",
    "\n",
    "    def get_else(self) -> \"Node\":\n",
    "        return self._else\n",
    "    \n",
    "    def set_except(self, except_: \"Node\") -> None:\n",
    "        self._except = except_\n",
    "    \n",
    "    def set_else(self, else_: \"Node\") -> None:\n",
    "        self._else = else_\n",
    "    \n",
    "    def match_precedent(self, case: set[str]) -> tuple[bool, str]:\n",
    "        if self._is_root:\n",
    "            return True, self._antecedent\n",
    "        else:\n",
    "            for statement in case:\n",
    "                if statement.startswith(\"~\"):\n",
    "                    exec(f\"{statement[1:]} = False\", __locals=locals())\n",
    "                else:\n",
    "                    exec(f\"{statement} = True\", __locals=locals())\n",
    "            \n",
    "            try:\n",
    "                eval(self._precedent)\n",
    "                return True, self._antecedent\n",
    "            except NameError:\n",
    "                return False, self._antecedent\n",
    "            finally:\n",
    "                for statement in case:\n",
    "                    if statement.startswith(\"~\"):\n",
    "                        exec(f\"del {statement[1:]}\", __locals=locals())\n",
    "                    else:\n",
    "                        exec(f\"del {statement}\", __locals=locals())"
   ]
  },
  {
   "cell_type": "code",
   "execution_count": 2,
   "outputs": [],
   "source": [
    "class Tree:\n",
    "    def __init__(self, root: \"Node\"):\n",
    "        self._root = root\n",
    "    \n",
    "    @staticmethod\n",
    "    def _isolate_statement(case: str) -> set[str]:\n",
    "        return set(re.findall(r\"~?[A-z0-9]+\\b\", case))\n",
    "    \n",
    "    def _traverse_tree(self, case: set[str]) -> None:\n",
    "        previous_node = self._root\n",
    "        next_node = True\n",
    "        current_node = self._root\n",
    "        last_true = self._root\n",
    "        \n",
    "        while not current_node.get_except() and not current_node.get_else():\n",
    "            if next_node := current_node.match_precedent(case)[0]:\n",
    "                previous_node = current_node\n",
    "                last_true = current_node\n",
    "                current_node = current_node.get_except()\n",
    "            else:\n",
    "                previous_node = current_node\n",
    "                current_node = current_node.get_else()\n",
    "        \n",
    "        antecedent = last_true[1]\n",
    "        print(f\"The system concludes that your case can be associated with the following: {antecedent}.\")\n",
    "        print(f\"Do you agree? (y/n)\")\n",
    "        \n",
    "        while True:\n",
    "            agreement = input().lower()\n",
    "            if agreement in (\"y\", \"n\"):\n",
    "                break\n",
    "            else:\n",
    "                print(f\"Please input a valid option!\")\n",
    "        \n",
    "        if agreement == \"n\":\n",
    "            print(f\"Please input a correct conclusion for this case!\")\n",
    "            conclusion = input()\n",
    "            \n",
    "            new_precedent = random.choice(tuple(case - last_true.get_cornerstone()))\n",
    "            new_node = Node(new_precedent, conclusion, case)\n",
    "            if next_node:\n",
    "                previous_node.set_except(new_node)\n",
    "            else:\n",
    "                previous_node.set_else(new_node)\n",
    "    \n",
    "    def start(self) -> None:\n",
    "        print(f\"Welcome to RDR Expert System!\")\n",
    "        print()\n",
    "        \n",
    "        while True:\n",
    "            print(f\"Enter your case, separated by a comma for each fact!\")\n",
    "            print(f\"Example case: mammal, fly, ~swim\")\n",
    "            \n",
    "            case = set(input().split(\", \"))\n",
    "            self._traverse_tree(case)\n",
    "            \n",
    "            print()\n",
    "            print(f\"Would you like to evaluate a different case? (y/n)\")\n",
    "            \n",
    "            while True:\n",
    "                continue_use = input().lower()\n",
    "                if continue_use in (\"y\", \"n\"):\n",
    "                    break\n",
    "                else:\n",
    "                    print(f\"Please input a valid option!\")\n",
    "            \n",
    "            if continue_use == \"y\":\n",
    "                continue\n",
    "            else:\n",
    "                break"
   ],
   "metadata": {
    "collapsed": false,
    "ExecuteTime": {
     "end_time": "2023-10-26T03:08:07.045120100Z",
     "start_time": "2023-10-26T03:08:07.040099400Z"
    }
   },
   "id": "d1bfe44e8eb5b8d8"
  },
  {
   "cell_type": "code",
   "execution_count": null,
   "outputs": [],
   "source": [
    "root_node = Node(\"\", \"human\", set(), is_root=True)\n",
    "model = Tree(root_node)\n",
    "\n",
    "model.start()"
   ],
   "metadata": {
    "collapsed": false
   },
   "id": "f848a363968b19da"
  }
 ],
 "metadata": {
  "kernelspec": {
   "display_name": "Python 3",
   "language": "python",
   "name": "python3"
  },
  "language_info": {
   "codemirror_mode": {
    "name": "ipython",
    "version": 2
   },
   "file_extension": ".py",
   "mimetype": "text/x-python",
   "name": "python",
   "nbconvert_exporter": "python",
   "pygments_lexer": "ipython2",
   "version": "2.7.6"
  }
 },
 "nbformat": 4,
 "nbformat_minor": 5
}
