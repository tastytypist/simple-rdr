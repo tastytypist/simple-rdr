{
 "cells": [
  {
   "cell_type": "code",
   "execution_count": 47,
   "metadata": {},
   "outputs": [],
   "source": [
    "import random"
   ]
  },
  {
   "cell_type": "code",
   "execution_count": 48,
   "metadata": {},
   "outputs": [],
   "source": [
    "class Node:\n",
    "    def __init__(self, precedent: list, antecedent: str, cornerstone: list, except_: \"Node\" = None, else_: \"Node\" = None, is_root: bool = False) -> None:\n",
    "        self._precedent = precedent\n",
    "        self._antecedent = antecedent\n",
    "        self._cornerstone = cornerstone\n",
    "        self._except = except_\n",
    "        self._else = else_\n",
    "        self._is_root = is_root\n",
    "\n",
    "    def get_cornerstone(self) -> list:\n",
    "        return self._cornerstone\n",
    "    \n",
    "    def get_except(self) -> \"Node\":\n",
    "        return self._except\n",
    "\n",
    "    def get_else(self) -> \"Node\":\n",
    "        return self._else\n",
    "    \n",
    "    def set_except(self, except_: \"Node\") -> None:\n",
    "        self._except = except_\n",
    "    \n",
    "    def set_else(self, else_: \"Node\") -> None:\n",
    "        self._else = else_\n",
    "    \n",
    "    def match_precedent(self, case: list) -> list:\n",
    "        return all(elem in case for elem in self._precedent)\n",
    "    \n",
    "    def __str__(self, level=0):\n",
    "        indent = \"  \" * level\n",
    "\n",
    "        description = f\"{indent}{self._precedent} -> {self._antecedent}\\n\"\n",
    "\n",
    "        if self._except:\n",
    "            description += f\"{indent}Except:\\n{self._except.__str__(level+1)}\"\n",
    "        if self._else:\n",
    "            description += f\"{indent}Else:\\n{self._else.__str__(level+1)}\"\n",
    "\n",
    "        return description"
   ]
  },
  {
   "cell_type": "code",
   "execution_count": 49,
   "metadata": {},
   "outputs": [],
   "source": [
    "def buildTree(currNode: Node, case: list = [], label: str = \"\", parent: Node = None) :\n",
    "  if currNode.match_precedent(case):\n",
    "    if currNode._antecedent == label:\n",
    "      if currNode.get_except() is not None:\n",
    "        return buildTree(currNode.get_except(), case, label, parent = currNode)\n",
    "      else:\n",
    "        if currNode.get_cornerstone() == case:\n",
    "          return currNode\n",
    "        else:\n",
    "          new_precedent = random.choice(set(case) - set(parent.get_cornerstone()))\n",
    "          new_node = Node(new_precedent, label, case)\n",
    "          currNode.set_except(new_node)\n",
    "          return currNode\n",
    "    else:\n",
    "      if (exceptNode := currNode.get_except()) is not None:\n",
    "        return buildTree(exceptNode, case, label, parent = parent)\n",
    "      else:\n",
    "        new_node = Node(currNode.get_cornerstone(), label, case)\n",
    "        currNode.set_except(new_node)\n",
    "        return currNode\n",
    "  else:\n",
    "    if (elseNode := currNode.get_else()) is not None:\n",
    "      return buildTree(elseNode, case, label, parent = parent)\n",
    "    else:\n",
    "      if parent is not None:\n",
    "        if parent.get_cornerstone() == case:\n",
    "          return currNode\n",
    "        else:\n",
    "          new_precedent = random.choice(set(case) - set(parent.get_cornerstone()))\n",
    "          new_node = Node(new_precedent, label, case)\n",
    "          currNode.set_except(new_node)\n",
    "          return currNode\n",
    "      else:\n",
    "        new_precedent = random.choice(case)\n",
    "        new_node = Node(new_precedent, label, case, is_root=True)\n",
    "        currNode.set_except(new_node)\n",
    "        return currNode"
   ]
  },
  {
   "cell_type": "code",
   "execution_count": 50,
   "metadata": {},
   "outputs": [],
   "source": [
    "precedent=list([\"a\", \"b\", \"c\",\n",
    "           \"d\", \"e\", \"f\",\n",
    "           \"g\", \"h\", \"i\",\n",
    "           \"j\", \"k\", \"l\",\n",
    "            \"m\", \"n\", \"o\",\n",
    "            \"p\", \"q\", \"r\"])\n",
    "antecedent=list([\"U\", \"V\", \"W\", \"X\", \"Y\", \"Z\"])"
   ]
  },
  {
   "cell_type": "code",
   "execution_count": 51,
   "metadata": {},
   "outputs": [
    {
     "name": "stdout",
     "output_type": "stream",
     "text": [
      "['a', 'b', 'c', 'd', 'e', 'f', 'g', 'h', 'i', 'j', 'k', 'l', 'm', 'n', 'o', 'p', 'q', 'r'] -> trueForAll\n",
      "Except:\n",
      "  r -> U\n",
      "\n"
     ]
    }
   ],
   "source": [
    "root = Node(precedent, antecedent = \"trueForAll\", cornerstone=precedent, is_root=True)\n",
    "\n",
    "newPre=list([\"a\", \"b\", \"c\",\n",
    "           \"d\", \"e\", \"f\",\n",
    "           \"g\", \"h\", \"i\",\n",
    "           \"j\", \"k\", \"l\",\n",
    "            \"m\", \"n\", \"o\",\n",
    "            \"p\", \"q\", \"r\"])\n",
    "newAnte=list([\"Z\", \"Y\", \"X\", \"W\", \"V\", \"U\"])\n",
    "i = 0\n",
    "mult=3\n",
    "while i < 6:\n",
    "  # print(f\"{newPre[i*mult:i*mult+3]} -> {newAnte[i]}\")\n",
    "  root = buildTree(root, newPre[i*mult:i*mult+3], newAnte[i])\n",
    "  # print(root)\n",
    "  i += 1\n",
    "\n",
    "print(root)"
   ]
  }
 ],
 "metadata": {
  "kernelspec": {
   "display_name": "Python 3",
   "language": "python",
   "name": "python3"
  },
  "language_info": {
   "codemirror_mode": {
    "name": "ipython",
    "version": 3
   },
   "file_extension": ".py",
   "mimetype": "text/x-python",
   "name": "python",
   "nbconvert_exporter": "python",
   "pygments_lexer": "ipython3",
   "version": "3.11.1"
  }
 },
 "nbformat": 4,
 "nbformat_minor": 2
}
